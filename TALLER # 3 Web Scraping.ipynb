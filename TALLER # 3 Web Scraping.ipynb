{
 "cells": [
  {
   "cell_type": "code",
   "execution_count": 333,
   "metadata": {},
   "outputs": [
    {
     "name": "stdout",
     "output_type": "stream",
     "text": [
      "Requirement already satisfied: beautifulsoup4 in c:\\users\\paula\\anaconda3\\lib\\site-packages (4.9.3)Note: you may need to restart the kernel to use updated packages.\n",
      "Requirement already satisfied: soupsieve>1.2; python_version >= \"3.0\" in c:\\users\\paula\\anaconda3\\lib\\site-packages (from beautifulsoup4) (2.0.1)\n",
      "\n"
     ]
    }
   ],
   "source": [
    "pip install beautifulsoup4"
   ]
  },
  {
   "cell_type": "code",
   "execution_count": 334,
   "metadata": {},
   "outputs": [],
   "source": [
    "import bs4 as bs"
   ]
  },
  {
   "cell_type": "code",
   "execution_count": 336,
   "metadata": {},
   "outputs": [],
   "source": [
    "import urllib.request"
   ]
  },
  {
   "cell_type": "code",
   "execution_count": 337,
   "metadata": {},
   "outputs": [],
   "source": [
    "link1 = \"https://es.wikipedia.org/wiki/Phocidae\"\n",
    "link2 = \"https://es.wikipedia.org/wiki/Canis_familiaris\"\n",
    "link3 = \"https://es.wikipedia.org/wiki/Gallus_gallus_domesticus\"\n",
    "link4 = \"https://es.wikipedia.org/wiki/Balaenidae\"\n",
    "link5 = \"https://es.wikipedia.org/wiki/Selachimorpha\"\n",
    "link6 = \"https://es.wikipedia.org/wiki/Lutrinae\"\n",
    "link7 = \"https://es.wikipedia.org/wiki/Castor\"\n",
    "link8 = \"https://es.wikipedia.org/wiki/Elephantidae\"\n",
    "link9 = \"https://es.wikipedia.org/wiki/Panthera_leo\"\n",
    "link10 = \"https://es.wikipedia.org/wiki/Ursidae\"\n"
   ]
  },
  {
   "cell_type": "code",
   "execution_count": 338,
   "metadata": {},
   "outputs": [],
   "source": [
    "request1 = urllib.request.Request(link1, headers={'User-Agent' : 'Mozilla/5.0'})\n",
    "webpage1 = urllib.request.urlopen(request1)\n",
    "source1 = webpage1.read()\n",
    "webpage1.close()\n",
    "soup1 = bs.BeautifulSoup(source1, 'html.parser')"
   ]
  },
  {
   "cell_type": "code",
   "execution_count": 339,
   "metadata": {},
   "outputs": [],
   "source": [
    "request2 = urllib.request.Request(link2, headers={'User-Agent' : 'Mozilla/5.0'})\n",
    "webpage2 = urllib.request.urlopen(request2)\n",
    "source2 = webpage2.read()\n",
    "webpage2.close()\n",
    "soup2 = bs.BeautifulSoup(source2, 'html.parser')"
   ]
  },
  {
   "cell_type": "code",
   "execution_count": 340,
   "metadata": {
    "scrolled": false
   },
   "outputs": [],
   "source": [
    "request3 = urllib.request.Request(link3, headers={'User-Agent' : 'Mozilla/5.0'})\n",
    "webpage3 = urllib.request.urlopen(request3)\n",
    "source3 = webpage3.read()\n",
    "webpage3.close()\n",
    "soup3 = bs.BeautifulSoup(source3, 'html.parser')"
   ]
  },
  {
   "cell_type": "code",
   "execution_count": 341,
   "metadata": {},
   "outputs": [],
   "source": [
    "request4 = urllib.request.Request(link4, headers={'User-Agent' : 'Mozilla/5.0'})\n",
    "webpage4 = urllib.request.urlopen(request4)\n",
    "source4 = webpage4.read()\n",
    "webpage4.close()\n",
    "soup4 = bs.BeautifulSoup(source4, 'html.parser')"
   ]
  },
  {
   "cell_type": "code",
   "execution_count": 342,
   "metadata": {},
   "outputs": [],
   "source": [
    "request5 = urllib.request.Request(link5, headers={'User-Agent' : 'Mozilla/5.0'})\n",
    "webpage5 = urllib.request.urlopen(request5)\n",
    "source5 = webpage5.read()\n",
    "webpage5.close()\n",
    "soup5 = bs.BeautifulSoup(source5, 'html.parser')"
   ]
  },
  {
   "cell_type": "code",
   "execution_count": 343,
   "metadata": {},
   "outputs": [],
   "source": [
    "request6 = urllib.request.Request(link6, headers={'User-Agent' : 'Mozilla/5.0'})\n",
    "webpage6= urllib.request.urlopen(request6)\n",
    "source6 = webpage6.read()\n",
    "webpage6.close()\n",
    "soup6 = bs.BeautifulSoup(source6, 'html.parser')"
   ]
  },
  {
   "cell_type": "code",
   "execution_count": 344,
   "metadata": {},
   "outputs": [],
   "source": [
    "request7 = urllib.request.Request(link7, headers={'User-Agent' : 'Mozilla/5.0'})\n",
    "webpage7 = urllib.request.urlopen(request7)\n",
    "source7 = webpage7.read()\n",
    "webpage7.close()\n",
    "soup7 = bs.BeautifulSoup(source7, 'html.parser')"
   ]
  },
  {
   "cell_type": "code",
   "execution_count": 345,
   "metadata": {},
   "outputs": [],
   "source": [
    "request8 = urllib.request.Request(link8, headers={'User-Agent' : 'Mozilla/5.0'})\n",
    "webpage8 = urllib.request.urlopen(request8)\n",
    "source8 = webpage8.read()\n",
    "webpage8.close()\n",
    "soup8 = bs.BeautifulSoup(source8, 'html.parser')"
   ]
  },
  {
   "cell_type": "code",
   "execution_count": 346,
   "metadata": {},
   "outputs": [],
   "source": [
    "request9 = urllib.request.Request(link9, headers={'User-Agent' : 'Mozilla/5.0'})\n",
    "webpage9 = urllib.request.urlopen(request9)\n",
    "source9 = webpage9.read()\n",
    "webpage9.close()\n",
    "soup9 = bs.BeautifulSoup(source9, 'html.parser')"
   ]
  },
  {
   "cell_type": "code",
   "execution_count": 347,
   "metadata": {},
   "outputs": [],
   "source": [
    "request10 = urllib.request.Request(link10, headers={'User-Agent' : 'Mozilla/5.0'})\n",
    "webpage10 = urllib.request.urlopen(request10)\n",
    "source10 = webpage10.read()\n",
    "webpage10.close()\n",
    "soup10 = bs.BeautifulSoup(source10, 'html.parser')"
   ]
  },
  {
   "cell_type": "code",
   "execution_count": 299,
   "metadata": {},
   "outputs": [
    {
     "data": {
      "text/plain": [
       "'Phocidae'"
      ]
     },
     "execution_count": 299,
     "metadata": {},
     "output_type": "execute_result"
    }
   ],
   "source": [
    "Encabezado1 = soup1.find(\"h1\").text\n"
   ]
  },
  {
   "cell_type": "code",
   "execution_count": 300,
   "metadata": {},
   "outputs": [
    {
     "data": {
      "text/plain": [
       "'Canis familiaris'"
      ]
     },
     "execution_count": 300,
     "metadata": {},
     "output_type": "execute_result"
    }
   ],
   "source": []
  },
  {
   "cell_type": "code",
   "execution_count": 349,
   "metadata": {},
   "outputs": [],
   "source": [
    "Encabezado1 = soup1.find(\"h1\").text\n",
    "Encabezado2 = soup2.find(\"h1\").text\n",
    "Encabezado3 = soup3.find(\"h1\").text\n",
    "Encabezado4 = soup4.find(\"h1\").text\n",
    "Encabezado5 = soup5.find(\"h1\").text\n",
    "Encabezado6 = soup6.find(\"h1\").text\n",
    "Encabezado7 = soup7.find(\"h1\").text\n",
    "Encabezado8 = soup8.find(\"h1\").text\n",
    "Encabezado9 = soup9.find(\"h1\").text\n",
    "Encabezado10 = soup10.find(\"h1\").text\n",
    "\n"
   ]
  },
  {
   "cell_type": "code",
   "execution_count": 354,
   "metadata": {},
   "outputs": [
    {
     "data": {
      "text/plain": [
       "'Ursidae'"
      ]
     },
     "execution_count": 354,
     "metadata": {},
     "output_type": "execute_result"
    }
   ],
   "source": [
    "Encabezado1\n"
   ]
  },
  {
   "cell_type": "code",
   "execution_count": 353,
   "metadata": {},
   "outputs": [
    {
     "data": {
      "text/plain": [
       "'Canis familiaris'"
      ]
     },
     "execution_count": 353,
     "metadata": {},
     "output_type": "execute_result"
    }
   ],
   "source": [
    "\n",
    "Encabezado2"
   ]
  },
  {
   "cell_type": "code",
   "execution_count": 362,
   "metadata": {},
   "outputs": [
    {
     "data": {
      "text/plain": [
       "'Gallus gallus domesticus'"
      ]
     },
     "execution_count": 362,
     "metadata": {},
     "output_type": "execute_result"
    }
   ],
   "source": [
    "Encabezado3\n"
   ]
  },
  {
   "cell_type": "code",
   "execution_count": 363,
   "metadata": {},
   "outputs": [
    {
     "data": {
      "text/plain": [
       "'Balaenidae'"
      ]
     },
     "execution_count": 363,
     "metadata": {},
     "output_type": "execute_result"
    }
   ],
   "source": [
    "Encabezado4\n"
   ]
  },
  {
   "cell_type": "code",
   "execution_count": 360,
   "metadata": {},
   "outputs": [
    {
     "data": {
      "text/plain": [
       "'Selachimorpha'"
      ]
     },
     "execution_count": 360,
     "metadata": {},
     "output_type": "execute_result"
    }
   ],
   "source": [
    "Encabezado5\n"
   ]
  },
  {
   "cell_type": "code",
   "execution_count": 359,
   "metadata": {},
   "outputs": [
    {
     "data": {
      "text/plain": [
       "'Lutrinae'"
      ]
     },
     "execution_count": 359,
     "metadata": {},
     "output_type": "execute_result"
    }
   ],
   "source": [
    "Encabezado6\n"
   ]
  },
  {
   "cell_type": "code",
   "execution_count": 358,
   "metadata": {},
   "outputs": [
    {
     "data": {
      "text/plain": [
       "'Castor'"
      ]
     },
     "execution_count": 358,
     "metadata": {},
     "output_type": "execute_result"
    }
   ],
   "source": [
    "Encabezado7\n"
   ]
  },
  {
   "cell_type": "code",
   "execution_count": 357,
   "metadata": {},
   "outputs": [
    {
     "data": {
      "text/plain": [
       "'Elephantidae'"
      ]
     },
     "execution_count": 357,
     "metadata": {},
     "output_type": "execute_result"
    }
   ],
   "source": [
    "Encabezado8\n"
   ]
  },
  {
   "cell_type": "code",
   "execution_count": 356,
   "metadata": {},
   "outputs": [
    {
     "data": {
      "text/plain": [
       "'Panthera leo'"
      ]
     },
     "execution_count": 356,
     "metadata": {},
     "output_type": "execute_result"
    }
   ],
   "source": [
    "Encabezado9\n"
   ]
  },
  {
   "cell_type": "code",
   "execution_count": 355,
   "metadata": {},
   "outputs": [
    {
     "data": {
      "text/plain": [
       "'Ursidae'"
      ]
     },
     "execution_count": 355,
     "metadata": {},
     "output_type": "execute_result"
    }
   ],
   "source": [
    "Encabezado10"
   ]
  },
  {
   "cell_type": "code",
   "execution_count": null,
   "metadata": {},
   "outputs": [],
   "source": [
    "#palabras en Negrita"
   ]
  },
  {
   "cell_type": "code",
   "execution_count": 329,
   "metadata": {},
   "outputs": [
    {
     "data": {
      "text/plain": [
       "[<b>fócidos</b>, <b>focas verdaderas</b>, <b>Phocidae</b>]"
      ]
     },
     "execution_count": 329,
     "metadata": {},
     "output_type": "execute_result"
    }
   ],
   "source": [
    "nom = soup1.find(\"p\").find_all(\"b\")\n",
    "nom"
   ]
  },
  {
   "cell_type": "code",
   "execution_count": 364,
   "metadata": {
    "scrolled": true
   },
   "outputs": [
    {
     "data": {
      "text/plain": [
       "[<b>perro</b>,\n",
       " <b>Canis familiaris</b>,\n",
       " <b>Canis lupus familiaris</b>,\n",
       " <b>perro doméstico</b>,\n",
       " <b>can</b>,\n",
       " <b>chucho</b>,\n",
       " <b>tuso</b>,\n",
       " <b>choco</b>]"
      ]
     },
     "execution_count": 364,
     "metadata": {},
     "output_type": "execute_result"
    }
   ],
   "source": [
    "nom = soup2.find(\"p\").find_all(\"b\")\n",
    "nom"
   ]
  },
  {
   "cell_type": "code",
   "execution_count": 365,
   "metadata": {},
   "outputs": [
    {
     "data": {
      "text/plain": [
       "[<b>gallo</b>,\n",
       " <b>gallina</b>,\n",
       " <b>Gallus gallus domesticus</b>,\n",
       " <b>gallo</b>,\n",
       " <b>gallina</b>,\n",
       " <b>pollo</b>]"
      ]
     },
     "execution_count": 365,
     "metadata": {},
     "output_type": "execute_result"
    }
   ],
   "source": [
    "nom = soup3.find(\"p\").find_all(\"b\")\n",
    "nom"
   ]
  },
  {
   "cell_type": "code",
   "execution_count": 366,
   "metadata": {},
   "outputs": [
    {
     "data": {
      "text/plain": [
       "[<b>balénidos</b>, <b>Balaenidae</b>, <b>ballena</b>]"
      ]
     },
     "execution_count": 366,
     "metadata": {},
     "output_type": "execute_result"
    }
   ],
   "source": [
    "nom = soup4.find(\"p\").find_all(\"b\")\n",
    "nom"
   ]
  },
  {
   "cell_type": "code",
   "execution_count": 367,
   "metadata": {},
   "outputs": [
    {
     "data": {
      "text/plain": [
       "[<b>selaquimorfos</b>,\n",
       " <b>selacimorfos</b>,\n",
       " <b>Selachimorpha</b>,\n",
       " <b>tiburones</b>,\n",
       " <b>escualos</b>,\n",
       " <b>jaquetones</b>]"
      ]
     },
     "execution_count": 367,
     "metadata": {},
     "output_type": "execute_result"
    }
   ],
   "source": [
    "nom = soup5.find(\"p\").find_all(\"b\")\n",
    "nom"
   ]
  },
  {
   "cell_type": "code",
   "execution_count": 368,
   "metadata": {},
   "outputs": [
    {
     "data": {
      "text/plain": [
       "[<b>lutrinos</b>, <b>Lutrinae</b>, <b>nutrias</b>]"
      ]
     },
     "execution_count": 368,
     "metadata": {},
     "output_type": "execute_result"
    }
   ],
   "source": [
    "nom = soup6.find(\"p\").find_all(\"b\")\n",
    "nom"
   ]
  },
  {
   "cell_type": "code",
   "execution_count": 370,
   "metadata": {},
   "outputs": [
    {
     "data": {
      "text/plain": [
       "[]"
      ]
     },
     "execution_count": 370,
     "metadata": {},
     "output_type": "execute_result"
    }
   ],
   "source": [
    "nom = soup7.find(\"p\").find_all(\"b\")\n",
    "nom"
   ]
  },
  {
   "cell_type": "code",
   "execution_count": 371,
   "metadata": {},
   "outputs": [
    {
     "data": {
      "text/plain": [
       "[]"
      ]
     },
     "execution_count": 371,
     "metadata": {},
     "output_type": "execute_result"
    }
   ],
   "source": [
    "nom = soup8.find(\"p\").find_all(\"b\")\n",
    "nom"
   ]
  },
  {
   "cell_type": "code",
   "execution_count": 372,
   "metadata": {},
   "outputs": [
    {
     "data": {
      "text/plain": [
       "[<b>león</b>, <b>Panthera leo</b>]"
      ]
     },
     "execution_count": 372,
     "metadata": {},
     "output_type": "execute_result"
    }
   ],
   "source": [
    "nom = soup9.find(\"p\").find_all(\"b\")\n",
    "nom"
   ]
  },
  {
   "cell_type": "code",
   "execution_count": 373,
   "metadata": {},
   "outputs": [
    {
     "data": {
      "text/plain": [
       "[<b>osos</b>, <b>úrsidos</b>, <b>Ursidae</b>]"
      ]
     },
     "execution_count": 373,
     "metadata": {},
     "output_type": "execute_result"
    }
   ],
   "source": [
    "nom = soup10.find(\"p\").find_all(\"b\")\n",
    "nom"
   ]
  }
 ],
 "metadata": {
  "kernelspec": {
   "display_name": "Python 3",
   "language": "python",
   "name": "python3"
  },
  "language_info": {
   "codemirror_mode": {
    "name": "ipython",
    "version": 3
   },
   "file_extension": ".py",
   "mimetype": "text/x-python",
   "name": "python",
   "nbconvert_exporter": "python",
   "pygments_lexer": "ipython3",
   "version": "3.8.5"
  }
 },
 "nbformat": 4,
 "nbformat_minor": 4
}
