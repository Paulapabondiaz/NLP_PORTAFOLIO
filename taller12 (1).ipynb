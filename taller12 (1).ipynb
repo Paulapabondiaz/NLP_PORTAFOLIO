{
 "cells": [
  {
   "cell_type": "markdown",
   "metadata": {},
   "source": [
    "<img src='https://encrypted-tbn0.gstatic.com/images?q=tbn%3AANd9GcQ-VfNtOyJbsaxu43Kztf_cv1mgBG6ZIQZEVw&usqp=CAU'>\n",
    "\n",
    "# Procesamiento de Lenguaje Natural\n",
    "\n",
    "## Taller #12: Análisis de sentimiento\n",
    "`Fecha de entrega: Mayo 27, 2021 (Antes del inicio de la próxima clase).`\n",
    "\n",
    "`Modo de entrega: Subir link de GitHub al aula virtual.`"
   ]
  },
  {
   "cell_type": "markdown",
   "metadata": {},
   "source": [
    "###  `[25 pts]` Punto 1: Hacer análisis de sentimiento de los datos del anterior taller\n",
    "- Columna con el puntaje numérico del sentimiento\n",
    "- Pueden usar cualquiera de las librerias vistas en clase"
   ]
  },
  {
   "cell_type": "code",
   "execution_count": 2,
   "metadata": {},
   "outputs": [],
   "source": [
    "import pandas as pd\n",
    "import tweepy"
   ]
  },
  {
   "cell_type": "code",
   "execution_count": 3,
   "metadata": {},
   "outputs": [
    {
     "data": {
      "text/plain": [
       "dict_keys(['api_key', 'api_secret_key', 'access_token', 'access_token_secret', 'bearer_token'])"
      ]
     },
     "execution_count": 3,
     "metadata": {},
     "output_type": "execute_result"
    }
   ],
   "source": [
    "\n",
    "keys = pd.read_csv(\"C:/Users/paula/OneDrive/Escritorio/KONRAD_LORENZ/SEMESTRE_II/NLP/keys.csv\", header=None)\n",
    "keys = dict(zip(keys[0],keys[1]))\n",
    "keys.keys()"
   ]
  },
  {
   "cell_type": "code",
   "execution_count": 4,
   "metadata": {},
   "outputs": [],
   "source": [
    "# Autenticar a través de la API \n",
    "auth = tweepy.OAuthHandler(keys['api_key'], keys['api_secret_key'])\n",
    "auth.set_access_token(keys['access_token'], keys['access_token_secret'])\n",
    "api = tweepy.API(auth, wait_on_rate_limit=True)"
   ]
  },
  {
   "cell_type": "code",
   "execution_count": 5,
   "metadata": {},
   "outputs": [],
   "source": [
    "\n",
    "# Paso 4 Recolectar datos\n",
    "tweets = tweepy.Cursor(api.search,\n",
    "                       q=['giro de italia -RT'],\n",
    "                       lang='es',\n",
    "                       geocode='4.7110,-74.0721,100km',\n",
    "                       tweet_mode='extended',\n",
    "                       include_rts=False,\n",
    "                       ).items(100)"
   ]
  },
  {
   "cell_type": "code",
   "execution_count": 6,
   "metadata": {},
   "outputs": [],
   "source": [
    "# Objeto generador\n",
    "t = [tweet for tweet in tweets]\n",
    "\n",
    "t_processed = []\n",
    "\n",
    "for tweet in t: \n",
    "    temp = []\n",
    "    temp.append(tweet.full_text)\n",
    "    temp.append(tweet.created_at)\n",
    "    temp.append('Bogotá')\n",
    "    temp.append(tweet.user.location)\n",
    "    temp.append(tweet.id)\n",
    "    temp.append(f\"https://twitter.com/i/web/stuatus/{tweet.id}\")\n",
    "    \n",
    "    t_processed.append(temp)\n"
   ]
  },
  {
   "cell_type": "code",
   "execution_count": 7,
   "metadata": {},
   "outputs": [],
   "source": [
    "    \n",
    "data = pd.DataFrame(t_processed)\n",
    "data.columns = ['tweets', 'date', 'city', 'user_location', 'id', 'link']\n"
   ]
  },
  {
   "cell_type": "code",
   "execution_count": 8,
   "metadata": {},
   "outputs": [],
   "source": [
    "from textblob  import  TextBlob "
   ]
  },
  {
   "cell_type": "code",
   "execution_count": 9,
   "metadata": {},
   "outputs": [],
   "source": [
    "from vaderSentiment.vaderSentiment  import  SentimentIntensityAnalyzer"
   ]
  },
  {
   "cell_type": "code",
   "execution_count": 10,
   "metadata": {},
   "outputs": [
    {
     "data": {
      "text/html": [
       "<div>\n",
       "<style scoped>\n",
       "    .dataframe tbody tr th:only-of-type {\n",
       "        vertical-align: middle;\n",
       "    }\n",
       "\n",
       "    .dataframe tbody tr th {\n",
       "        vertical-align: top;\n",
       "    }\n",
       "\n",
       "    .dataframe thead th {\n",
       "        text-align: right;\n",
       "    }\n",
       "</style>\n",
       "<table border=\"1\" class=\"dataframe\">\n",
       "  <thead>\n",
       "    <tr style=\"text-align: right;\">\n",
       "      <th></th>\n",
       "      <th>tweets</th>\n",
       "      <th>date</th>\n",
       "      <th>city</th>\n",
       "      <th>user_location</th>\n",
       "      <th>id</th>\n",
       "      <th>link</th>\n",
       "    </tr>\n",
       "  </thead>\n",
       "  <tbody>\n",
       "    <tr>\n",
       "      <th>0</th>\n",
       "      <td>Fuerza champion Dios te de mucha fortaleza en ...</td>\n",
       "      <td>2021-05-27 03:22:52</td>\n",
       "      <td>Bogotá</td>\n",
       "      <td></td>\n",
       "      <td>1397755153663549445</td>\n",
       "      <td>https://twitter.com/i/web/stuatus/139775515366...</td>\n",
       "    </tr>\n",
       "    <tr>\n",
       "      <th>1</th>\n",
       "      <td>#Ilustración / Hoy @rflorezsantiago ilustra qu...</td>\n",
       "      <td>2021-05-27 03:01:19</td>\n",
       "      <td>Bogotá</td>\n",
       "      <td>Pereira, Colombia</td>\n",
       "      <td>1397749732777332740</td>\n",
       "      <td>https://twitter.com/i/web/stuatus/139774973277...</td>\n",
       "    </tr>\n",
       "    <tr>\n",
       "      <th>2</th>\n",
       "      <td>#DeportesRCN \\n\\nEgan Bernal se encontró con l...</td>\n",
       "      <td>2021-05-27 02:34:49</td>\n",
       "      <td>Bogotá</td>\n",
       "      <td>Bogotá, Colombia</td>\n",
       "      <td>1397743063850786817</td>\n",
       "      <td>https://twitter.com/i/web/stuatus/139774306385...</td>\n",
       "    </tr>\n",
       "    <tr>\n",
       "      <th>3</th>\n",
       "      <td>Giro de Italia: Los compañeros de Egan en el G...</td>\n",
       "      <td>2021-05-27 02:15:32</td>\n",
       "      <td>Bogotá</td>\n",
       "      <td>Bogotá</td>\n",
       "      <td>1397738208897740801</td>\n",
       "      <td>https://twitter.com/i/web/stuatus/139773820889...</td>\n",
       "    </tr>\n",
       "    <tr>\n",
       "      <th>4</th>\n",
       "      <td>Que grande @Eganbernal Que Dios lo fortalezca ...</td>\n",
       "      <td>2021-05-27 01:30:47</td>\n",
       "      <td>Bogotá</td>\n",
       "      <td>Ibagué, Colombia</td>\n",
       "      <td>1397726946767917059</td>\n",
       "      <td>https://twitter.com/i/web/stuatus/139772694676...</td>\n",
       "    </tr>\n",
       "  </tbody>\n",
       "</table>\n",
       "</div>"
      ],
      "text/plain": [
       "                                              tweets                date  \\\n",
       "0  Fuerza champion Dios te de mucha fortaleza en ... 2021-05-27 03:22:52   \n",
       "1  #Ilustración / Hoy @rflorezsantiago ilustra qu... 2021-05-27 03:01:19   \n",
       "2  #DeportesRCN \\n\\nEgan Bernal se encontró con l... 2021-05-27 02:34:49   \n",
       "3  Giro de Italia: Los compañeros de Egan en el G... 2021-05-27 02:15:32   \n",
       "4  Que grande @Eganbernal Que Dios lo fortalezca ... 2021-05-27 01:30:47   \n",
       "\n",
       "     city      user_location                   id  \\\n",
       "0  Bogotá                     1397755153663549445   \n",
       "1  Bogotá  Pereira, Colombia  1397749732777332740   \n",
       "2  Bogotá   Bogotá, Colombia  1397743063850786817   \n",
       "3  Bogotá             Bogotá  1397738208897740801   \n",
       "4  Bogotá   Ibagué, Colombia  1397726946767917059   \n",
       "\n",
       "                                                link  \n",
       "0  https://twitter.com/i/web/stuatus/139775515366...  \n",
       "1  https://twitter.com/i/web/stuatus/139774973277...  \n",
       "2  https://twitter.com/i/web/stuatus/139774306385...  \n",
       "3  https://twitter.com/i/web/stuatus/139773820889...  \n",
       "4  https://twitter.com/i/web/stuatus/139772694676...  "
      ]
     },
     "execution_count": 10,
     "metadata": {},
     "output_type": "execute_result"
    }
   ],
   "source": [
    " vader = SentimentIntensityAnalyzer()\n",
    "data . head ()"
   ]
  },
  {
   "cell_type": "code",
   "execution_count": 11,
   "metadata": {},
   "outputs": [
    {
     "data": {
      "text/html": [
       "<div>\n",
       "<style scoped>\n",
       "    .dataframe tbody tr th:only-of-type {\n",
       "        vertical-align: middle;\n",
       "    }\n",
       "\n",
       "    .dataframe tbody tr th {\n",
       "        vertical-align: top;\n",
       "    }\n",
       "\n",
       "    .dataframe thead th {\n",
       "        text-align: right;\n",
       "    }\n",
       "</style>\n",
       "<table border=\"1\" class=\"dataframe\">\n",
       "  <thead>\n",
       "    <tr style=\"text-align: right;\">\n",
       "      <th></th>\n",
       "      <th>tweets</th>\n",
       "      <th>date</th>\n",
       "      <th>city</th>\n",
       "      <th>user_location</th>\n",
       "      <th>id</th>\n",
       "      <th>link</th>\n",
       "      <th>sentimiento_vader</th>\n",
       "      <th>sentimiento_textblob</th>\n",
       "    </tr>\n",
       "  </thead>\n",
       "  <tbody>\n",
       "    <tr>\n",
       "      <th>0</th>\n",
       "      <td>Fuerza champion Dios te de mucha fortaleza en ...</td>\n",
       "      <td>2021-05-27 03:22:52</td>\n",
       "      <td>Bogotá</td>\n",
       "      <td></td>\n",
       "      <td>1397755153663549445</td>\n",
       "      <td>https://twitter.com/i/web/stuatus/139775515366...</td>\n",
       "      <td>0.5994</td>\n",
       "      <td>0.0</td>\n",
       "    </tr>\n",
       "    <tr>\n",
       "      <th>1</th>\n",
       "      <td>#Ilustración / Hoy @rflorezsantiago ilustra qu...</td>\n",
       "      <td>2021-05-27 03:01:19</td>\n",
       "      <td>Bogotá</td>\n",
       "      <td>Pereira, Colombia</td>\n",
       "      <td>1397749732777332740</td>\n",
       "      <td>https://twitter.com/i/web/stuatus/139774973277...</td>\n",
       "      <td>0.0000</td>\n",
       "      <td>0.0</td>\n",
       "    </tr>\n",
       "    <tr>\n",
       "      <th>2</th>\n",
       "      <td>#DeportesRCN \\n\\nEgan Bernal se encontró con l...</td>\n",
       "      <td>2021-05-27 02:34:49</td>\n",
       "      <td>Bogotá</td>\n",
       "      <td>Bogotá, Colombia</td>\n",
       "      <td>1397743063850786817</td>\n",
       "      <td>https://twitter.com/i/web/stuatus/139774306385...</td>\n",
       "      <td>0.0000</td>\n",
       "      <td>0.0</td>\n",
       "    </tr>\n",
       "    <tr>\n",
       "      <th>3</th>\n",
       "      <td>Giro de Italia: Los compañeros de Egan en el G...</td>\n",
       "      <td>2021-05-27 02:15:32</td>\n",
       "      <td>Bogotá</td>\n",
       "      <td>Bogotá</td>\n",
       "      <td>1397738208897740801</td>\n",
       "      <td>https://twitter.com/i/web/stuatus/139773820889...</td>\n",
       "      <td>0.0000</td>\n",
       "      <td>0.0</td>\n",
       "    </tr>\n",
       "    <tr>\n",
       "      <th>4</th>\n",
       "      <td>Que grande @Eganbernal Que Dios lo fortalezca ...</td>\n",
       "      <td>2021-05-27 01:30:47</td>\n",
       "      <td>Bogotá</td>\n",
       "      <td>Ibagué, Colombia</td>\n",
       "      <td>1397726946767917059</td>\n",
       "      <td>https://twitter.com/i/web/stuatus/139772694676...</td>\n",
       "      <td>0.0000</td>\n",
       "      <td>0.0</td>\n",
       "    </tr>\n",
       "  </tbody>\n",
       "</table>\n",
       "</div>"
      ],
      "text/plain": [
       "                                              tweets                date  \\\n",
       "0  Fuerza champion Dios te de mucha fortaleza en ... 2021-05-27 03:22:52   \n",
       "1  #Ilustración / Hoy @rflorezsantiago ilustra qu... 2021-05-27 03:01:19   \n",
       "2  #DeportesRCN \\n\\nEgan Bernal se encontró con l... 2021-05-27 02:34:49   \n",
       "3  Giro de Italia: Los compañeros de Egan en el G... 2021-05-27 02:15:32   \n",
       "4  Que grande @Eganbernal Que Dios lo fortalezca ... 2021-05-27 01:30:47   \n",
       "\n",
       "     city      user_location                   id  \\\n",
       "0  Bogotá                     1397755153663549445   \n",
       "1  Bogotá  Pereira, Colombia  1397749732777332740   \n",
       "2  Bogotá   Bogotá, Colombia  1397743063850786817   \n",
       "3  Bogotá             Bogotá  1397738208897740801   \n",
       "4  Bogotá   Ibagué, Colombia  1397726946767917059   \n",
       "\n",
       "                                                link  sentimiento_vader  \\\n",
       "0  https://twitter.com/i/web/stuatus/139775515366...             0.5994   \n",
       "1  https://twitter.com/i/web/stuatus/139774973277...             0.0000   \n",
       "2  https://twitter.com/i/web/stuatus/139774306385...             0.0000   \n",
       "3  https://twitter.com/i/web/stuatus/139773820889...             0.0000   \n",
       "4  https://twitter.com/i/web/stuatus/139772694676...             0.0000   \n",
       "\n",
       "   sentimiento_textblob  \n",
       "0                   0.0  \n",
       "1                   0.0  \n",
       "2                   0.0  \n",
       "3                   0.0  \n",
       "4                   0.0  "
      ]
     },
     "execution_count": 11,
     "metadata": {},
     "output_type": "execute_result"
    }
   ],
   "source": [
    "data['sentimiento_vader'] = data['tweets'].apply(lambda valor: vader.polarity_scores(valor)['compound'])\n",
    "data['sentimiento_textblob'] = data['tweets'].apply(lambda valor: TextBlob(valor).sentiment.polarity)\n",
    "data.head()\n"
   ]
  },
  {
   "cell_type": "code",
   "execution_count": 12,
   "metadata": {},
   "outputs": [
    {
     "data": {
      "text/html": [
       "<div>\n",
       "<style scoped>\n",
       "    .dataframe tbody tr th:only-of-type {\n",
       "        vertical-align: middle;\n",
       "    }\n",
       "\n",
       "    .dataframe tbody tr th {\n",
       "        vertical-align: top;\n",
       "    }\n",
       "\n",
       "    .dataframe thead th {\n",
       "        text-align: right;\n",
       "    }\n",
       "</style>\n",
       "<table border=\"1\" class=\"dataframe\">\n",
       "  <thead>\n",
       "    <tr style=\"text-align: right;\">\n",
       "      <th></th>\n",
       "      <th>tweets</th>\n",
       "      <th>sentimiento_vader</th>\n",
       "    </tr>\n",
       "  </thead>\n",
       "  <tbody>\n",
       "    <tr>\n",
       "      <th>49</th>\n",
       "      <td>#GiroDeItalia2021|El irlandés Dan Martin ganó la etapa 17, en la que Daniel Felipe Martínez fue la figura para Colombia y ayudó a Egan Bernal en el momento de crisis.\\nhttps://t.co/Vku3hSgndt</td>\n",
       "      <td>-0.6249</td>\n",
       "    </tr>\n",
       "    <tr>\n",
       "      <th>87</th>\n",
       "      <td>El irlandés Dan Martin ganó la etapa 17, en la que Daniel Felipe Martínez fue la figura para Colombia y ayudó a Egan Bernal en el momento de crisis.\\nhttps://t.co/oiCu9OEf3n</td>\n",
       "      <td>-0.6249</td>\n",
       "    </tr>\n",
       "    <tr>\n",
       "      <th>41</th>\n",
       "      <td>Una lástima que se vaya Remco de Giro de Italia. No sufrió fracturas tras la caída, pero decidieron que no tiene sentido seguir sufriendo y es mejor recuperar. #FuerzaRemco https://t.co/DV9XCrdrxn</td>\n",
       "      <td>-0.5267</td>\n",
       "    </tr>\n",
       "    <tr>\n",
       "      <th>57</th>\n",
       "      <td>@Eganbernal @fdbedout @danifmartinez96 🎼.. soloooo le pido a dioooos que el dolor no me sea indiferente ; que Egan gane el giro de Italia para toda la alegría de esta gente 🇨🇴....  VAMOS CAMPEÓN !!!!</td>\n",
       "      <td>-0.5216</td>\n",
       "    </tr>\n",
       "    <tr>\n",
       "      <th>85</th>\n",
       "      <td>Clasificaciones tras la etapa 17 del Giro de Italia 2021🚵‍🔥 https://t.co/JegajRh9Ah</td>\n",
       "      <td>-0.3400</td>\n",
       "    </tr>\n",
       "    <tr>\n",
       "      <th>...</th>\n",
       "      <td>...</td>\n",
       "      <td>...</td>\n",
       "    </tr>\n",
       "    <tr>\n",
       "      <th>47</th>\n",
       "      <td>Etapa 18 del Giro de Italia: un recorrido ideal para Fernando Gaviria https://t.co/bkYFLYBMKu</td>\n",
       "      <td>0.5267</td>\n",
       "    </tr>\n",
       "    <tr>\n",
       "      <th>44</th>\n",
       "      <td>La postal del día.\\n\\n@Eganbernal sufrió con la llegada, pero @danifmartinez96 fue su escolta el Giro de Italia.\\n\\nEn la foto superior, las misma escena con Lucho Herrera en la vuelta España. https://t.co/yvNaRWaIqA</td>\n",
       "      <td>0.5423</td>\n",
       "    </tr>\n",
       "    <tr>\n",
       "      <th>7</th>\n",
       "      <td>El Giro de Italia 2021 ha sido muy bueno para Colombia. Ha ganado dos etapas, lleva más de una semana en el liderato y sus seis ciclistas han sido protagonistas. Vea el análisis de la etapa 17 del #GiroDeItalia. \\n👇\\nhttps://t.co/X5siBAsyPA https://t.co/pKHXxwQDeP</td>\n",
       "      <td>0.5859</td>\n",
       "    </tr>\n",
       "    <tr>\n",
       "      <th>0</th>\n",
       "      <td>Fuerza champion Dios te de mucha fortaleza en el resto giro italia. Fuerza campeon.  Bendiciones.</td>\n",
       "      <td>0.5994</td>\n",
       "    </tr>\n",
       "    <tr>\n",
       "      <th>72</th>\n",
       "      <td>Cuando Egan estaba perdiendo las esperanzas en la etapa de hoy en el Giro de Italia apareció el otro Cundinamarques Dani Martinez y lo llevó a rueda hasta el final de la etapa ❤❤\\nTrabajo en Equipo 🚴‍♂️\\n\\n#girodeitalia https://t.co/KxZ8hNOnbK</td>\n",
       "      <td>0.8555</td>\n",
       "    </tr>\n",
       "  </tbody>\n",
       "</table>\n",
       "<p>100 rows × 2 columns</p>\n",
       "</div>"
      ],
      "text/plain": [
       "                                                                                                                                                                                                                                                                      tweets  \\\n",
       "49                                                                           #GiroDeItalia2021|El irlandés Dan Martin ganó la etapa 17, en la que Daniel Felipe Martínez fue la figura para Colombia y ayudó a Egan Bernal en el momento de crisis.\\nhttps://t.co/Vku3hSgndt   \n",
       "87                                                                                             El irlandés Dan Martin ganó la etapa 17, en la que Daniel Felipe Martínez fue la figura para Colombia y ayudó a Egan Bernal en el momento de crisis.\\nhttps://t.co/oiCu9OEf3n   \n",
       "41                                                                      Una lástima que se vaya Remco de Giro de Italia. No sufrió fracturas tras la caída, pero decidieron que no tiene sentido seguir sufriendo y es mejor recuperar. #FuerzaRemco https://t.co/DV9XCrdrxn   \n",
       "57                                                                   @Eganbernal @fdbedout @danifmartinez96 🎼.. soloooo le pido a dioooos que el dolor no me sea indiferente ; que Egan gane el giro de Italia para toda la alegría de esta gente 🇨🇴....  VAMOS CAMPEÓN !!!!   \n",
       "85                                                                                                                                                                                       Clasificaciones tras la etapa 17 del Giro de Italia 2021🚵‍🔥 https://t.co/JegajRh9Ah   \n",
       "..                                                                                                                                                                                                                                                                       ...   \n",
       "47                                                                                                                                                                             Etapa 18 del Giro de Italia: un recorrido ideal para Fernando Gaviria https://t.co/bkYFLYBMKu   \n",
       "44                                                  La postal del día.\\n\\n@Eganbernal sufrió con la llegada, pero @danifmartinez96 fue su escolta el Giro de Italia.\\n\\nEn la foto superior, las misma escena con Lucho Herrera en la vuelta España. https://t.co/yvNaRWaIqA   \n",
       "7   El Giro de Italia 2021 ha sido muy bueno para Colombia. Ha ganado dos etapas, lleva más de una semana en el liderato y sus seis ciclistas han sido protagonistas. Vea el análisis de la etapa 17 del #GiroDeItalia. \\n👇\\nhttps://t.co/X5siBAsyPA https://t.co/pKHXxwQDeP   \n",
       "0                                                                                                                                                                          Fuerza champion Dios te de mucha fortaleza en el resto giro italia. Fuerza campeon.  Bendiciones.   \n",
       "72                       Cuando Egan estaba perdiendo las esperanzas en la etapa de hoy en el Giro de Italia apareció el otro Cundinamarques Dani Martinez y lo llevó a rueda hasta el final de la etapa ❤❤\\nTrabajo en Equipo 🚴‍♂️\\n\\n#girodeitalia https://t.co/KxZ8hNOnbK   \n",
       "\n",
       "    sentimiento_vader  \n",
       "49            -0.6249  \n",
       "87            -0.6249  \n",
       "41            -0.5267  \n",
       "57            -0.5216  \n",
       "85            -0.3400  \n",
       "..                ...  \n",
       "47             0.5267  \n",
       "44             0.5423  \n",
       "7              0.5859  \n",
       "0              0.5994  \n",
       "72             0.8555  \n",
       "\n",
       "[100 rows x 2 columns]"
      ]
     },
     "execution_count": 12,
     "metadata": {},
     "output_type": "execute_result"
    }
   ],
   "source": [
    "pd.set_option('display.max_colwidth', None)\n",
    "resultado = data[['tweets', 'sentimiento_vader']].sort_values('sentimiento_vader')\n",
    "resultado"
   ]
  },
  {
   "cell_type": "markdown",
   "metadata": {},
   "source": [
    "###  `[10 pts]` Punto 2: ¿Cuál es el tuit más positivo y más negativo?"
   ]
  },
  {
   "cell_type": "code",
   "execution_count": 13,
   "metadata": {},
   "outputs": [
    {
     "data": {
      "text/html": [
       "<div>\n",
       "<style scoped>\n",
       "    .dataframe tbody tr th:only-of-type {\n",
       "        vertical-align: middle;\n",
       "    }\n",
       "\n",
       "    .dataframe tbody tr th {\n",
       "        vertical-align: top;\n",
       "    }\n",
       "\n",
       "    .dataframe thead th {\n",
       "        text-align: right;\n",
       "    }\n",
       "</style>\n",
       "<table border=\"1\" class=\"dataframe\">\n",
       "  <thead>\n",
       "    <tr style=\"text-align: right;\">\n",
       "      <th></th>\n",
       "      <th>tweets</th>\n",
       "      <th>sentimiento_vader</th>\n",
       "    </tr>\n",
       "  </thead>\n",
       "  <tbody>\n",
       "    <tr>\n",
       "      <th>49</th>\n",
       "      <td>#GiroDeItalia2021|El irlandés Dan Martin ganó la etapa 17, en la que Daniel Felipe Martínez fue la figura para Colombia y ayudó a Egan Bernal en el momento de crisis.\\nhttps://t.co/Vku3hSgndt</td>\n",
       "      <td>-0.6249</td>\n",
       "    </tr>\n",
       "  </tbody>\n",
       "</table>\n",
       "</div>"
      ],
      "text/plain": [
       "                                                                                                                                                                                             tweets  \\\n",
       "49  #GiroDeItalia2021|El irlandés Dan Martin ganó la etapa 17, en la que Daniel Felipe Martínez fue la figura para Colombia y ayudó a Egan Bernal en el momento de crisis.\\nhttps://t.co/Vku3hSgndt   \n",
       "\n",
       "    sentimiento_vader  \n",
       "49            -0.6249  "
      ]
     },
     "execution_count": 13,
     "metadata": {},
     "output_type": "execute_result"
    }
   ],
   "source": [
    "# Tuit mas negativo\n",
    "resultado.head(1)"
   ]
  },
  {
   "cell_type": "code",
   "execution_count": 14,
   "metadata": {},
   "outputs": [
    {
     "data": {
      "text/html": [
       "<div>\n",
       "<style scoped>\n",
       "    .dataframe tbody tr th:only-of-type {\n",
       "        vertical-align: middle;\n",
       "    }\n",
       "\n",
       "    .dataframe tbody tr th {\n",
       "        vertical-align: top;\n",
       "    }\n",
       "\n",
       "    .dataframe thead th {\n",
       "        text-align: right;\n",
       "    }\n",
       "</style>\n",
       "<table border=\"1\" class=\"dataframe\">\n",
       "  <thead>\n",
       "    <tr style=\"text-align: right;\">\n",
       "      <th></th>\n",
       "      <th>tweets</th>\n",
       "      <th>sentimiento_vader</th>\n",
       "    </tr>\n",
       "  </thead>\n",
       "  <tbody>\n",
       "    <tr>\n",
       "      <th>72</th>\n",
       "      <td>Cuando Egan estaba perdiendo las esperanzas en la etapa de hoy en el Giro de Italia apareció el otro Cundinamarques Dani Martinez y lo llevó a rueda hasta el final de la etapa ❤❤\\nTrabajo en Equipo 🚴‍♂️\\n\\n#girodeitalia https://t.co/KxZ8hNOnbK</td>\n",
       "      <td>0.8555</td>\n",
       "    </tr>\n",
       "  </tbody>\n",
       "</table>\n",
       "</div>"
      ],
      "text/plain": [
       "                                                                                                                                                                                                                                                 tweets  \\\n",
       "72  Cuando Egan estaba perdiendo las esperanzas en la etapa de hoy en el Giro de Italia apareció el otro Cundinamarques Dani Martinez y lo llevó a rueda hasta el final de la etapa ❤❤\\nTrabajo en Equipo 🚴‍♂️\\n\\n#girodeitalia https://t.co/KxZ8hNOnbK   \n",
       "\n",
       "    sentimiento_vader  \n",
       "72             0.8555  "
      ]
     },
     "execution_count": 14,
     "metadata": {},
     "output_type": "execute_result"
    }
   ],
   "source": [
    "# Tuit mas positivo\n",
    "resultado.tail(1)"
   ]
  },
  {
   "cell_type": "markdown",
   "metadata": {},
   "source": [
    "###  `[10 pts]` Punto 3: ¿Cuántos tuits positivos/negativos hay en sus datos?"
   ]
  },
  {
   "cell_type": "code",
   "execution_count": 65,
   "metadata": {},
   "outputs": [
    {
     "data": {
      "text/html": [
       "<div>\n",
       "<style scoped>\n",
       "    .dataframe tbody tr th:only-of-type {\n",
       "        vertical-align: middle;\n",
       "    }\n",
       "\n",
       "    .dataframe tbody tr th {\n",
       "        vertical-align: top;\n",
       "    }\n",
       "\n",
       "    .dataframe thead th {\n",
       "        text-align: right;\n",
       "    }\n",
       "</style>\n",
       "<table border=\"1\" class=\"dataframe\">\n",
       "  <thead>\n",
       "    <tr style=\"text-align: right;\">\n",
       "      <th></th>\n",
       "      <th>tweets</th>\n",
       "      <th>sentimiento_vader</th>\n",
       "    </tr>\n",
       "  </thead>\n",
       "  <tbody>\n",
       "    <tr>\n",
       "      <th>49</th>\n",
       "      <td>#GiroDeItalia2021|El irlandés Dan Martin ganó la etapa 17, en la que Daniel Felipe Martínez fue la figura para Colombia y ayudó a Egan Bernal en el momento de crisis.\\nhttps://t.co/Vku3hSgndt</td>\n",
       "      <td>-0.6249</td>\n",
       "    </tr>\n",
       "    <tr>\n",
       "      <th>87</th>\n",
       "      <td>El irlandés Dan Martin ganó la etapa 17, en la que Daniel Felipe Martínez fue la figura para Colombia y ayudó a Egan Bernal en el momento de crisis.\\nhttps://t.co/oiCu9OEf3n</td>\n",
       "      <td>-0.6249</td>\n",
       "    </tr>\n",
       "    <tr>\n",
       "      <th>41</th>\n",
       "      <td>Una lástima que se vaya Remco de Giro de Italia. No sufrió fracturas tras la caída, pero decidieron que no tiene sentido seguir sufriendo y es mejor recuperar. #FuerzaRemco https://t.co/DV9XCrdrxn</td>\n",
       "      <td>-0.5267</td>\n",
       "    </tr>\n",
       "    <tr>\n",
       "      <th>57</th>\n",
       "      <td>@Eganbernal @fdbedout @danifmartinez96 🎼.. soloooo le pido a dioooos que el dolor no me sea indiferente ; que Egan gane el giro de Italia para toda la alegría de esta gente 🇨🇴....  VAMOS CAMPEÓN !!!!</td>\n",
       "      <td>-0.5216</td>\n",
       "    </tr>\n",
       "    <tr>\n",
       "      <th>85</th>\n",
       "      <td>Clasificaciones tras la etapa 17 del Giro de Italia 2021🚵‍🔥 https://t.co/JegajRh9Ah</td>\n",
       "      <td>-0.3400</td>\n",
       "    </tr>\n",
       "  </tbody>\n",
       "</table>\n",
       "</div>"
      ],
      "text/plain": [
       "                                                                                                                                                                                                     tweets  \\\n",
       "49          #GiroDeItalia2021|El irlandés Dan Martin ganó la etapa 17, en la que Daniel Felipe Martínez fue la figura para Colombia y ayudó a Egan Bernal en el momento de crisis.\\nhttps://t.co/Vku3hSgndt   \n",
       "87                            El irlandés Dan Martin ganó la etapa 17, en la que Daniel Felipe Martínez fue la figura para Colombia y ayudó a Egan Bernal en el momento de crisis.\\nhttps://t.co/oiCu9OEf3n   \n",
       "41     Una lástima que se vaya Remco de Giro de Italia. No sufrió fracturas tras la caída, pero decidieron que no tiene sentido seguir sufriendo y es mejor recuperar. #FuerzaRemco https://t.co/DV9XCrdrxn   \n",
       "57  @Eganbernal @fdbedout @danifmartinez96 🎼.. soloooo le pido a dioooos que el dolor no me sea indiferente ; que Egan gane el giro de Italia para toda la alegría de esta gente 🇨🇴....  VAMOS CAMPEÓN !!!!   \n",
       "85                                                                                                                      Clasificaciones tras la etapa 17 del Giro de Italia 2021🚵‍🔥 https://t.co/JegajRh9Ah   \n",
       "\n",
       "    sentimiento_vader  \n",
       "49            -0.6249  \n",
       "87            -0.6249  \n",
       "41            -0.5267  \n",
       "57            -0.5216  \n",
       "85            -0.3400  "
      ]
     },
     "execution_count": 65,
     "metadata": {},
     "output_type": "execute_result"
    }
   ],
   "source": [
    "negativos = resultado['sentimiento_vader'] < 0.000\n",
    "neg = resultado[negativos]\n",
    "neg.head()"
   ]
  },
  {
   "cell_type": "code",
   "execution_count": 66,
   "metadata": {},
   "outputs": [
    {
     "data": {
      "text/plain": [
       "tweets               17\n",
       "sentimiento_vader    17\n",
       "dtype: int64"
      ]
     },
     "execution_count": 66,
     "metadata": {},
     "output_type": "execute_result"
    }
   ],
   "source": [
    "neg.count()"
   ]
  },
  {
   "cell_type": "code",
   "execution_count": null,
   "metadata": {},
   "outputs": [],
   "source": [
    "#el numero de tuits negativos es 17"
   ]
  },
  {
   "cell_type": "code",
   "execution_count": 30,
   "metadata": {},
   "outputs": [
    {
     "data": {
      "text/html": [
       "<div>\n",
       "<style scoped>\n",
       "    .dataframe tbody tr th:only-of-type {\n",
       "        vertical-align: middle;\n",
       "    }\n",
       "\n",
       "    .dataframe tbody tr th {\n",
       "        vertical-align: top;\n",
       "    }\n",
       "\n",
       "    .dataframe thead th {\n",
       "        text-align: right;\n",
       "    }\n",
       "</style>\n",
       "<table border=\"1\" class=\"dataframe\">\n",
       "  <thead>\n",
       "    <tr style=\"text-align: right;\">\n",
       "      <th></th>\n",
       "      <th>tweets</th>\n",
       "      <th>sentimiento_vader</th>\n",
       "    </tr>\n",
       "  </thead>\n",
       "  <tbody>\n",
       "    <tr>\n",
       "      <th>66</th>\n",
       "      <td>Egan Bernal sufrió en la etapa 17 del Giro de Italia, pero supo defender la maglia rosa   https://t.co/FlHKZNHNmC</td>\n",
       "      <td>0.1027</td>\n",
       "    </tr>\n",
       "    <tr>\n",
       "      <th>45</th>\n",
       "      <td>Análisis: el mal día de Egan, ¿qué juega a su favor y qué en contra?... @ELTIEMPO https://t.co/UC0zfD577z #giroditalia2021</td>\n",
       "      <td>0.4019</td>\n",
       "    </tr>\n",
       "    <tr>\n",
       "      <th>46</th>\n",
       "      <td>Etapa 18 del Giro de Italia: un recorrido ideal para Fernando Gaviria https://t.co/WohgKxRjDW https://t.co/mM7O2VwTZB</td>\n",
       "      <td>0.5267</td>\n",
       "    </tr>\n",
       "    <tr>\n",
       "      <th>47</th>\n",
       "      <td>Etapa 18 del Giro de Italia: un recorrido ideal para Fernando Gaviria https://t.co/bkYFLYBMKu</td>\n",
       "      <td>0.5267</td>\n",
       "    </tr>\n",
       "    <tr>\n",
       "      <th>44</th>\n",
       "      <td>La postal del día.\\n\\n@Eganbernal sufrió con la llegada, pero @danifmartinez96 fue su escolta el Giro de Italia.\\n\\nEn la foto superior, las misma escena con Lucho Herrera en la vuelta España. https://t.co/yvNaRWaIqA</td>\n",
       "      <td>0.5423</td>\n",
       "    </tr>\n",
       "  </tbody>\n",
       "</table>\n",
       "</div>"
      ],
      "text/plain": [
       "                                                                                                                                                                                                                      tweets  \\\n",
       "66                                                                                                         Egan Bernal sufrió en la etapa 17 del Giro de Italia, pero supo defender la maglia rosa   https://t.co/FlHKZNHNmC   \n",
       "45                                                                                                Análisis: el mal día de Egan, ¿qué juega a su favor y qué en contra?... @ELTIEMPO https://t.co/UC0zfD577z #giroditalia2021   \n",
       "46                                                                                                     Etapa 18 del Giro de Italia: un recorrido ideal para Fernando Gaviria https://t.co/WohgKxRjDW https://t.co/mM7O2VwTZB   \n",
       "47                                                                                                                             Etapa 18 del Giro de Italia: un recorrido ideal para Fernando Gaviria https://t.co/bkYFLYBMKu   \n",
       "44  La postal del día.\\n\\n@Eganbernal sufrió con la llegada, pero @danifmartinez96 fue su escolta el Giro de Italia.\\n\\nEn la foto superior, las misma escena con Lucho Herrera en la vuelta España. https://t.co/yvNaRWaIqA   \n",
       "\n",
       "    sentimiento_vader  \n",
       "66             0.1027  \n",
       "45             0.4019  \n",
       "46             0.5267  \n",
       "47             0.5267  \n",
       "44             0.5423  "
      ]
     },
     "execution_count": 30,
     "metadata": {},
     "output_type": "execute_result"
    }
   ],
   "source": [
    "positivos = resultado['sentimiento_vader'] > 0.000\n",
    "pos = resultado[positivos]\n",
    "pos.head()"
   ]
  },
  {
   "cell_type": "code",
   "execution_count": 49,
   "metadata": {},
   "outputs": [
    {
     "data": {
      "text/plain": [
       "tweets               75\n",
       "sentimiento_vader    75\n",
       "dtype: int64"
      ]
     },
     "execution_count": 49,
     "metadata": {},
     "output_type": "execute_result"
    }
   ],
   "source": [
    "pos.count()"
   ]
  },
  {
   "cell_type": "code",
   "execution_count": null,
   "metadata": {},
   "outputs": [],
   "source": [
    "#el numero de tuits positivos es 75"
   ]
  },
  {
   "cell_type": "markdown",
   "metadata": {},
   "source": [
    "###  `[5 pts]` : Punto 4: Una visualización sobre sus datos"
   ]
  },
  {
   "cell_type": "code",
   "execution_count": 68,
   "metadata": {},
   "outputs": [
    {
     "data": {
      "image/png": "[encoded data removed]",
      "text/plain": [
       "<Figure size 432x288 with 1 Axes>"
      ]
     },
     "metadata": {
      "needs_background": "light"
     },
     "output_type": "display_data"
    }
   ],
   "source": [
    "data['sentimiento_vader'].plot(kind='hist');"
   ]
  },
  {
   "cell_type": "code",
   "execution_count": 67,
   "metadata": {},
   "outputs": [
    {
     "data": {
      "image/png": "[encoded data removed]",
      "text/plain": [
       "<Figure size 432x288 with 1 Axes>"
      ]
     },
     "metadata": {
      "needs_background": "light"
     },
     "output_type": "display_data"
    }
   ],
   "source": [
    "\n",
    "data['sentimiento_textblob'].plot(kind='hist');"
   ]
  },
  {
   "cell_type": "code",
   "execution_count": null,
   "metadata": {},
   "outputs": [],
   "source": []
  }
 ],
 "metadata": {
  "kernelspec": {
   "display_name": "Python 3",
   "language": "python",
   "name": "python3"
  },
  "language_info": {
   "codemirror_mode": {
    "name": "ipython",
    "version": 3
   },
   "file_extension": ".py",
   "mimetype": "text/x-python",
   "name": "python",
   "nbconvert_exporter": "python",
   "pygments_lexer": "ipython3",
   "version": "3.8.8"
  }
 },
 "nbformat": 4,
 "nbformat_minor": 2
}
